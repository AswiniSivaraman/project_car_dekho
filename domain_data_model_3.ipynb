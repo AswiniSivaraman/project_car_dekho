{
 "cells": [
  {
   "cell_type": "code",
   "execution_count": 35,
   "metadata": {},
   "outputs": [],
   "source": [
    "import pandas as pd\n",
    "import matplotlib.pyplot as plt\n",
    "from sklearn.preprocessing import LabelEncoder\n",
    "import pandas as pd\n",
    "from sklearn.model_selection import train_test_split\n",
    "from sklearn.linear_model import LinearRegression, Ridge, Lasso, ElasticNet\n",
    "from sklearn.ensemble import RandomForestRegressor, GradientBoostingRegressor\n",
    "from sklearn.svm import SVR\n",
    "from sklearn.neighbors import KNeighborsRegressor\n",
    "from xgboost import XGBRegressor\n",
    "from sklearn.metrics import accuracy_score, precision_score, recall_score, f1_score,mean_absolute_error, r2_score\n",
    "from sklearn.model_selection import RandomizedSearchCV\n",
    "from xgboost import XGBRegressor\n",
    "from sklearn.ensemble import RandomForestRegressor\n",
    "from sklearn.model_selection import RandomizedSearchCV\n",
    "import joblib"
   ]
  },
  {
   "cell_type": "code",
   "execution_count": 20,
   "metadata": {},
   "outputs": [
    {
     "name": "stdout",
     "output_type": "stream",
     "text": [
      "<class 'pandas.core.frame.DataFrame'>\n",
      "RangeIndex: 8231 entries, 0 to 8230\n",
      "Data columns (total 12 columns):\n",
      " #   Column               Non-Null Count  Dtype  \n",
      "---  ------               --------------  -----  \n",
      " 0   oem                  8231 non-null   object \n",
      " 1   ownerNo              8231 non-null   float64\n",
      " 2   transmission         8231 non-null   object \n",
      " 3   km                   8231 non-null   float64\n",
      " 4   modelYear            8231 non-null   float64\n",
      " 5   Fuel Type            8231 non-null   object \n",
      " 6   Engine Displacement  8231 non-null   float64\n",
      " 7   Mileage              8231 non-null   float64\n",
      " 8   Max Power            8231 non-null   float64\n",
      " 9   Gear Box             8231 non-null   float64\n",
      " 10  bt                   8231 non-null   object \n",
      " 11  price                8231 non-null   float64\n",
      "dtypes: float64(8), object(4)\n",
      "memory usage: 771.8+ KB\n"
     ]
    }
   ],
   "source": [
    "df = pd.read_csv('domain_related_data.csv')\n",
    "df.info()"
   ]
  },
  {
   "cell_type": "code",
   "execution_count": 21,
   "metadata": {},
   "outputs": [],
   "source": [
    "cat_cols = df.select_dtypes(include='object').columns"
   ]
  },
  {
   "cell_type": "code",
   "execution_count": null,
   "metadata": {},
   "outputs": [
    {
     "name": "stdout",
     "output_type": "stream",
     "text": [
      "Encoded values for 'oem':\n",
      "  Audi -> 0\n",
      "  BMW -> 1\n",
      "  Chevrolet -> 2\n",
      "  Citroen -> 3\n",
      "  Datsun -> 4\n",
      "  Fiat -> 5\n",
      "  Ford -> 6\n",
      "  Hindustan -> 7\n",
      "  Honda -> 8\n",
      "  Hyundai -> 9\n",
      "  Isuzu -> 10\n",
      "  Jaguar -> 11\n",
      "  Jeep -> 12\n",
      "  Kia -> 13\n",
      "  Land Rover -> 14\n",
      "  Lexus -> 15\n",
      "  MG -> 16\n",
      "  Mahindra -> 17\n",
      "  Maruti -> 18\n",
      "  Mercedes-Benz -> 19\n",
      "  Mini -> 20\n",
      "  Mitsubishi -> 21\n",
      "  Nissan -> 22\n",
      "  Opel -> 23\n",
      "  Porsche -> 24\n",
      "  Renault -> 25\n",
      "  Skoda -> 26\n",
      "  Tata -> 27\n",
      "  Toyota -> 28\n",
      "  Volkswagen -> 29\n",
      "  Volvo -> 30\n",
      "\n",
      "Encoded values for 'transmission':\n",
      "  Automatic -> 0\n",
      "  Manual -> 1\n",
      "\n",
      "Encoded values for 'Fuel Type':\n",
      "  CNG -> 0\n",
      "  Diesel -> 1\n",
      "  Electric -> 2\n",
      "  LPG -> 3\n",
      "  Petrol -> 4\n",
      "\n",
      "Encoded values for 'bt':\n",
      "  Convertibles -> 0\n",
      "  Coupe -> 1\n",
      "  Hatchback -> 2\n",
      "  Hybrids -> 3\n",
      "  MUV -> 4\n",
      "  Minivans -> 5\n",
      "  Pickup Trucks -> 6\n",
      "  SUV -> 7\n",
      "  Sedan -> 8\n",
      "  Wagon -> 9\n",
      "\n"
     ]
    }
   ],
   "source": [
    "encoder = LabelEncoder()\n",
    "encoded_mappings = {}\n",
    "\n",
    "for i in df.select_dtypes(include=\"object\").columns:\n",
    "  df[i] = encoder.fit_transform(df[i])\n",
    "  encoded_mappings[i] = dict(zip(encoder.classes_, encoder.transform(encoder.classes_)))\n",
    "\n",
    "for col, mapping in encoded_mappings.items():\n",
    "    print(f\"Encoded values for '{col}':\")\n",
    "    for original, encoded in mapping.items():\n",
    "        print(f\"  {original} -> {encoded}\")\n",
    "    print()\n",
    "\n",
    "joblib.dump(encoded_mappings, \"encoded_mappings.pkl\")"
   ]
  },
  {
   "cell_type": "code",
   "execution_count": 23,
   "metadata": {},
   "outputs": [],
   "source": [
    "# import json\n",
    "\n",
    "# # Save the mappings to a JSON file\n",
    "# with open(\"encoded_mappings.json\", \"w\") as f:\n",
    "#     json.dump(encoded_mappings, f)\n",
    "\n",
    "# # To load it back later\n",
    "# with open(\"encoded_mappings.json\", \"r\") as f:\n",
    "#     loaded_mappings = json.load(f)\n",
    "\n",
    "# print(loaded_mappings)"
   ]
  },
  {
   "cell_type": "code",
   "execution_count": 24,
   "metadata": {},
   "outputs": [],
   "source": [
    "X = df.drop(columns=['price'])\n",
    "y = df['price']"
   ]
  },
  {
   "cell_type": "markdown",
   "metadata": {},
   "source": [
    "##### Step 1 -- Model Selection"
   ]
  },
  {
   "cell_type": "code",
   "execution_count": 25,
   "metadata": {},
   "outputs": [],
   "source": [
    "# Split the dataset into training and testing sets\n",
    "X_train, X_test, y_train, y_test = train_test_split(X, y, test_size=0.2, random_state=42)\n",
    "\n",
    "# Initialize models (same as before)\n",
    "models = {\n",
    "    'Linear Regression': LinearRegression(),\n",
    "    'Ridge Regression': Ridge(),\n",
    "    'Lasso Regression': Lasso(),\n",
    "    'ElasticNet': ElasticNet(),\n",
    "    'Support Vector Regression (SVR)': SVR(),\n",
    "    'K-Nearest Neighbors (KNN)': KNeighborsRegressor(),\n",
    "    'Random Forest': RandomForestRegressor(random_state=42),\n",
    "    'Gradient Boosting': GradientBoostingRegressor(random_state=42),\n",
    "    'XGBoost': XGBRegressor(random_state=42)\n",
    "}\n",
    "\n",
    "# Store evaluation metrics for each model\n",
    "evaluation_results = []\n",
    "\n",
    "# Iterate over models\n",
    "for name, model in models.items():\n",
    "    # Train the model\n",
    "    model.fit(X_train, y_train)\n",
    "    \n",
    "    # Make predictions\n",
    "    train_preds = model.predict(X_train)\n",
    "    test_pred = model.predict(X_test)\n",
    "    \n",
    "    # Compute metrics\n",
    "    train_mae = mean_absolute_error(y_train, train_preds)\n",
    "    train_r2 = r2_score(y_train, train_preds)\n",
    "    test_mae = mean_absolute_error(y_test, test_pred)\n",
    "    test_r2 = r2_score(y_test, test_pred)\n",
    "    \n",
    "    # Append metrics to results\n",
    "    evaluation_results.append({\n",
    "        'Model': name,\n",
    "        'Train MAE': train_mae,\n",
    "        'Train R2 Score': train_r2,\n",
    "        'Test MAE' : test_mae,\n",
    "        'Test R2 Score' : test_r2\n",
    "    })\n",
    "\n",
    "# Convert results to a DataFrame for better readability\n",
    "evaluation_df = pd.DataFrame(evaluation_results)"
   ]
  },
  {
   "cell_type": "code",
   "execution_count": 26,
   "metadata": {},
   "outputs": [
    {
     "data": {
      "text/html": [
       "<div>\n",
       "<style scoped>\n",
       "    .dataframe tbody tr th:only-of-type {\n",
       "        vertical-align: middle;\n",
       "    }\n",
       "\n",
       "    .dataframe tbody tr th {\n",
       "        vertical-align: top;\n",
       "    }\n",
       "\n",
       "    .dataframe thead th {\n",
       "        text-align: right;\n",
       "    }\n",
       "</style>\n",
       "<table border=\"1\" class=\"dataframe\">\n",
       "  <thead>\n",
       "    <tr style=\"text-align: right;\">\n",
       "      <th></th>\n",
       "      <th>Model</th>\n",
       "      <th>Train MAE</th>\n",
       "      <th>Train R2 Score</th>\n",
       "      <th>Test MAE</th>\n",
       "      <th>Test R2 Score</th>\n",
       "    </tr>\n",
       "  </thead>\n",
       "  <tbody>\n",
       "    <tr>\n",
       "      <th>0</th>\n",
       "      <td>Linear Regression</td>\n",
       "      <td>138091.345132</td>\n",
       "      <td>0.858329</td>\n",
       "      <td>134337.183200</td>\n",
       "      <td>0.862037</td>\n",
       "    </tr>\n",
       "    <tr>\n",
       "      <th>1</th>\n",
       "      <td>Ridge Regression</td>\n",
       "      <td>138090.169667</td>\n",
       "      <td>0.858329</td>\n",
       "      <td>134335.541564</td>\n",
       "      <td>0.862039</td>\n",
       "    </tr>\n",
       "    <tr>\n",
       "      <th>2</th>\n",
       "      <td>Lasso Regression</td>\n",
       "      <td>138091.235532</td>\n",
       "      <td>0.858329</td>\n",
       "      <td>134337.053669</td>\n",
       "      <td>0.862037</td>\n",
       "    </tr>\n",
       "    <tr>\n",
       "      <th>3</th>\n",
       "      <td>ElasticNet</td>\n",
       "      <td>141434.270071</td>\n",
       "      <td>0.847618</td>\n",
       "      <td>138569.731650</td>\n",
       "      <td>0.852821</td>\n",
       "    </tr>\n",
       "    <tr>\n",
       "      <th>4</th>\n",
       "      <td>Support Vector Regression (SVR)</td>\n",
       "      <td>368744.119419</td>\n",
       "      <td>-0.092373</td>\n",
       "      <td>365642.292570</td>\n",
       "      <td>-0.104737</td>\n",
       "    </tr>\n",
       "    <tr>\n",
       "      <th>5</th>\n",
       "      <td>K-Nearest Neighbors (KNN)</td>\n",
       "      <td>160485.912242</td>\n",
       "      <td>0.775251</td>\n",
       "      <td>200827.239344</td>\n",
       "      <td>0.652095</td>\n",
       "    </tr>\n",
       "    <tr>\n",
       "      <th>6</th>\n",
       "      <td>Random Forest</td>\n",
       "      <td>31735.037286</td>\n",
       "      <td>0.990090</td>\n",
       "      <td>82292.932859</td>\n",
       "      <td>0.933905</td>\n",
       "    </tr>\n",
       "    <tr>\n",
       "      <th>7</th>\n",
       "      <td>Gradient Boosting</td>\n",
       "      <td>89018.364815</td>\n",
       "      <td>0.933938</td>\n",
       "      <td>92422.043777</td>\n",
       "      <td>0.923155</td>\n",
       "    </tr>\n",
       "    <tr>\n",
       "      <th>8</th>\n",
       "      <td>XGBoost</td>\n",
       "      <td>45736.776998</td>\n",
       "      <td>0.983176</td>\n",
       "      <td>79691.873081</td>\n",
       "      <td>0.940064</td>\n",
       "    </tr>\n",
       "  </tbody>\n",
       "</table>\n",
       "</div>"
      ],
      "text/plain": [
       "                             Model      Train MAE  Train R2 Score  \\\n",
       "0                Linear Regression  138091.345132        0.858329   \n",
       "1                 Ridge Regression  138090.169667        0.858329   \n",
       "2                 Lasso Regression  138091.235532        0.858329   \n",
       "3                       ElasticNet  141434.270071        0.847618   \n",
       "4  Support Vector Regression (SVR)  368744.119419       -0.092373   \n",
       "5        K-Nearest Neighbors (KNN)  160485.912242        0.775251   \n",
       "6                    Random Forest   31735.037286        0.990090   \n",
       "7                Gradient Boosting   89018.364815        0.933938   \n",
       "8                          XGBoost   45736.776998        0.983176   \n",
       "\n",
       "        Test MAE  Test R2 Score  \n",
       "0  134337.183200       0.862037  \n",
       "1  134335.541564       0.862039  \n",
       "2  134337.053669       0.862037  \n",
       "3  138569.731650       0.852821  \n",
       "4  365642.292570      -0.104737  \n",
       "5  200827.239344       0.652095  \n",
       "6   82292.932859       0.933905  \n",
       "7   92422.043777       0.923155  \n",
       "8   79691.873081       0.940064  "
      ]
     },
     "execution_count": 26,
     "metadata": {},
     "output_type": "execute_result"
    }
   ],
   "source": [
    "evaluation_df"
   ]
  },
  {
   "cell_type": "markdown",
   "metadata": {},
   "source": [
    "##### conclusion from step 1 - \n",
    "##### Model Evaluation Summary - Based on the evaluation metrics (Mean Absolute Error (MAE) and R² Score): - **Random Forest** and **XGBoost** outperformed other models: - Random Forest: MAE = 82292.93, R² = 0.933 , - XGBoost: MAE = 76691.87, R² = 0.94 for testing data. Both models demonstrated significantly better accuracy and lower error compared to other algorithms.\n",
    "\n",
    "##### Final Decision - The **Random Forest** and **XGBoost** models will be taken to the next stage of refinement."
   ]
  },
  {
   "cell_type": "markdown",
   "metadata": {},
   "source": [
    "##### Step 2 - Hyperparameter tuning\n",
    "##### - **Hyperparameter Tuning**:- Utilize `RandomizedSearchCV` to optimize the performance of these two models. This approach ensures efficient search across a wide range of hyperparameters while saving computational time compared to `GridSearchCV`."
   ]
  },
  {
   "cell_type": "code",
   "execution_count": 27,
   "metadata": {},
   "outputs": [
    {
     "name": "stdout",
     "output_type": "stream",
     "text": [
      "Fitting 5 folds for each of 50 candidates, totalling 250 fits\n",
      "Best Parameters: {'subsample': 0.6, 'reg_lambda': 1.5, 'reg_alpha': 0, 'n_estimators': 200, 'max_depth': 7, 'learning_rate': 0.05, 'gamma': 0.1, 'colsample_bytree': 0.6}\n",
      "Best R2 Score: 0.939587569050736\n",
      "MAE: 78563.06714386005, R2 Score: 0.9432406579922457\n"
     ]
    }
   ],
   "source": [
    "# Define the parameter grid\n",
    "param_grid = {\n",
    "    'n_estimators': [50, 100, 200, 300],\n",
    "    'max_depth': [3, 5, 7, 10],\n",
    "    'learning_rate': [0.01, 0.05, 0.1, 0.2],\n",
    "    'subsample': [0.6, 0.8, 1.0],\n",
    "    'colsample_bytree': [0.6, 0.8, 1.0],\n",
    "    'gamma': [0, 0.1, 0.3],\n",
    "    'reg_alpha': [0, 0.1, 1],\n",
    "    'reg_lambda': [1, 1.5, 2]\n",
    "}\n",
    "\n",
    "# Initialize the model\n",
    "xgb = XGBRegressor(random_state=42)\n",
    "\n",
    "# Perform RandomizedSearchCV\n",
    "random_search_xgb = RandomizedSearchCV(\n",
    "    estimator=xgb,\n",
    "    param_distributions=param_grid,\n",
    "    n_iter=50,\n",
    "    scoring='r2',\n",
    "    cv=5,\n",
    "    verbose=1,\n",
    "    random_state=42,\n",
    "    n_jobs=-1\n",
    ")\n",
    "\n",
    "# Fit the random search to the data\n",
    "random_search_xgb.fit(X_train, y_train)\n",
    "\n",
    "# Best parameters and score\n",
    "print(\"Best Parameters:\", random_search_xgb.best_params_)\n",
    "print(\"Best R2 Score:\", random_search_xgb.best_score_)\n",
    "\n",
    "# Evaluate the best model on the test set\n",
    "best_model_xgb = random_search_xgb.best_estimator_\n",
    "y_pred = best_model_xgb.predict(X_test)\n",
    "xgb_mae = mean_absolute_error(y_test, y_pred)\n",
    "xgb_r2 = r2_score(y_test, y_pred)\n",
    "print(f\"MAE: {xgb_mae}, R2 Score: {xgb_r2}\")\n"
   ]
  },
  {
   "cell_type": "code",
   "execution_count": 28,
   "metadata": {},
   "outputs": [
    {
     "name": "stdout",
     "output_type": "stream",
     "text": [
      "Fitting 5 folds for each of 50 candidates, totalling 250 fits\n",
      "Best Parameters: {'n_estimators': 100, 'min_samples_split': 5, 'min_samples_leaf': 1, 'max_features': 'sqrt', 'max_depth': 50, 'bootstrap': False}\n",
      "Best Cross-Validated R2 Score: 0.9360799518749399\n",
      "Test Set Performance:\n",
      " MAE: 80465.55177798017, R2 Score: 0.9383755837370317\n"
     ]
    }
   ],
   "source": [
    "# Define the parameter grid for RandomizedSearchCV\n",
    "param_grid = {\n",
    "    'n_estimators': [10, 50, 100, 200, 300],\n",
    "    'max_depth': [None, 10, 20, 30, 40, 50],\n",
    "    'min_samples_split': [2, 5, 10, 15],\n",
    "    'min_samples_leaf': [1, 2, 5, 10],\n",
    "    'max_features': [None, 'sqrt', 'log2'], \n",
    "    'bootstrap': [True, False]\n",
    "}\n",
    "\n",
    "# Initialize the Random Forest model\n",
    "rf = RandomForestRegressor(random_state=42)\n",
    "\n",
    "# Perform RandomizedSearchCV\n",
    "random_search_rf = RandomizedSearchCV(\n",
    "    estimator=rf,\n",
    "    param_distributions=param_grid,\n",
    "    n_iter=50,  \n",
    "    scoring='r2',  \n",
    "    cv=5,  \n",
    "    verbose=2,\n",
    "    random_state=42,\n",
    "    n_jobs=-1 \n",
    ")\n",
    "\n",
    "# Fit the random search to the data\n",
    "random_search_rf.fit(X_train, y_train)\n",
    "\n",
    "# Extract the best parameters and the best score\n",
    "print(\"Best Parameters:\", random_search_rf.best_params_)\n",
    "print(\"Best Cross-Validated R2 Score:\", random_search_rf.best_score_)\n",
    "\n",
    "# Evaluate the best model on the test set\n",
    "best_model_rf = random_search_rf.best_estimator_\n",
    "y_pred = best_model_rf.predict(X_test)\n",
    "rf_mae = mean_absolute_error(y_test, y_pred)\n",
    "rf_r2 = r2_score(y_test, y_pred)\n",
    "\n",
    "print(f\"Test Set Performance:\\n MAE: {rf_mae}, R2 Score: {rf_r2}\")\n"
   ]
  },
  {
   "cell_type": "code",
   "execution_count": 29,
   "metadata": {},
   "outputs": [
    {
     "name": "stdout",
     "output_type": "stream",
     "text": [
      "           Model           MAE  R2 Score\n",
      "0  Random Forest  80465.551778  0.938376\n",
      "1        XGBoost  78563.067144  0.943241\n"
     ]
    }
   ],
   "source": [
    "results = {\n",
    "    'Model': ['Random Forest', 'XGBoost'],\n",
    "    'MAE': [rf_mae, xgb_mae],\n",
    "    'R2 Score': [rf_r2, xgb_r2]\n",
    "}\n",
    "results_df = pd.DataFrame(results)\n",
    "print(results_df)"
   ]
  },
  {
   "cell_type": "code",
   "execution_count": 30,
   "metadata": {},
   "outputs": [
    {
     "data": {
      "image/png": "[encoded data removed]",
      "text/plain": [
       "<Figure size 1000x600 with 1 Axes>"
      ]
     },
     "metadata": {},
     "output_type": "display_data"
    }
   ],
   "source": [
    "# Feature importance for Random Forest\n",
    "rf_importance = pd.Series(best_model_rf.feature_importances_, index=X.columns)\n",
    "rf_importance.sort_values(ascending=False).plot(kind='bar', title='Feature Importance (Random Forest)', figsize=(10, 6))\n",
    "plt.show()\n"
   ]
  },
  {
   "cell_type": "code",
   "execution_count": 31,
   "metadata": {},
   "outputs": [
    {
     "data": {
      "image/png": "[encoded data removed]",
      "text/plain": [
       "<Figure size 1000x600 with 1 Axes>"
      ]
     },
     "metadata": {},
     "output_type": "display_data"
    }
   ],
   "source": [
    "# Feature importance for XGBoost\n",
    "xgb_importance = pd.Series(random_search_xgb.best_estimator_.feature_importances_, index=X.columns)\n",
    "xgb_importance.sort_values(ascending=False).plot(kind='bar', title='Feature Importance (XGBoost)', figsize=(10, 6))\n",
    "plt.show()"
   ]
  },
  {
   "cell_type": "markdown",
   "metadata": {},
   "source": [
    "##### deploy model using best params"
   ]
  },
  {
   "cell_type": "code",
   "execution_count": 32,
   "metadata": {},
   "outputs": [
    {
     "name": "stdout",
     "output_type": "stream",
     "text": [
      "     Model     Train MAE  Train R2 Score      Test MAE  Test R2 Score\n",
      "0  XGBoost  57688.870584        0.974024  78255.052529        0.94446\n"
     ]
    }
   ],
   "source": [
    "# Best Parameters: {'subsample': 0.6, 'reg_lambda': 1.5, 'reg_alpha': 0, 'n_estimators': 200, 'max_depth': 7, 'learning_rate': 0.05, 'gamma': 0.1, 'colsample_bytree': 0.6}\n",
    "# Best R² Score: 0.939587569050736\n",
    "# MAE: 78563.06714386005, R² Score: 0.9432406579922457\n",
    "\n",
    "best_xgb_params = random_search_xgb.best_params_\n",
    "\n",
    "best_xgb_model = XGBRegressor(\n",
    "    n_estimators=best_xgb_params['n_estimators'],\n",
    "    max_depth=best_xgb_params['max_depth'],\n",
    "    learning_rate=best_xgb_params['learning_rate'],\n",
    "    subsample=best_xgb_params['subsample'],\n",
    "    colsample_bytree=best_xgb_params['colsample_bytree'],\n",
    "    random_state=42\n",
    ")\n",
    "\n",
    "best_xgb_model.fit(X_train, y_train)\n",
    "\n",
    "y_train_pred_xgb = best_xgb_model.predict(X_train)\n",
    "\n",
    "mae_train_xgb = mean_absolute_error(y_train, y_train_pred_xgb)\n",
    "r2_train_xgb = r2_score(y_train, y_train_pred_xgb)\n",
    "\n",
    "y_test_pred_xgb = best_xgb_model.predict(X_test)\n",
    "\n",
    "mae_test_xgb = mean_absolute_error(y_test, y_test_pred_xgb)\n",
    "r2_test_xgb = r2_score(y_test, y_test_pred_xgb)\n",
    "\n",
    "best_xgb_params_results = {\n",
    "    'Model': ['XGBoost'],\n",
    "    'Train MAE': [mae_train_xgb],\n",
    "    'Train R2 Score': [r2_train_xgb],\n",
    "    'Test MAE' : [mae_test_xgb],\n",
    "    'Test R2 Score' : [r2_test_xgb]\n",
    "}\n",
    "result = pd.DataFrame(best_xgb_params_results)\n",
    "print(result)\n"
   ]
  },
  {
   "cell_type": "code",
   "execution_count": 33,
   "metadata": {},
   "outputs": [
    {
     "data": {
      "text/plain": [
       "['carprice_prediction_ml_model.pkl']"
      ]
     },
     "execution_count": 33,
     "metadata": {},
     "output_type": "execute_result"
    }
   ],
   "source": [
    "# Save the model\n",
    "joblib.dump(best_xgb_model, 'carprice_prediction_ml_model.pkl')"
   ]
  },
  {
   "cell_type": "code",
   "execution_count": 34,
   "metadata": {},
   "outputs": [],
   "source": [
    "# # Save column names for encoding\n",
    "# encoded_columns = list(X_encoded.columns)\n",
    "# joblib.dump(encoded_columns, 'encoded_columns.pkl')"
   ]
  }
 ],
 "metadata": {
  "kernelspec": {
   "display_name": "guvi_projects_env",
   "language": "python",
   "name": "python3"
  },
  "language_info": {
   "codemirror_mode": {
    "name": "ipython",
    "version": 3
   },
   "file_extension": ".py",
   "mimetype": "text/x-python",
   "name": "python",
   "nbconvert_exporter": "python",
   "pygments_lexer": "ipython3",
   "version": "3.12.2"
  }
 },
 "nbformat": 4,
 "nbformat_minor": 2
}
